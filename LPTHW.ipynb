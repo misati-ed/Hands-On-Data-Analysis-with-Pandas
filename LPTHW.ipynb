{
  "nbformat": 4,
  "nbformat_minor": 0,
  "metadata": {
    "colab": {
      "provenance": [],
      "authorship_tag": "ABX9TyNKMuuHiOz4mEiJBsYCcUP7",
      "include_colab_link": true
    },
    "kernelspec": {
      "name": "python3",
      "display_name": "Python 3"
    },
    "language_info": {
      "name": "python"
    }
  },
  "cells": [
    {
      "cell_type": "markdown",
      "metadata": {
        "id": "view-in-github",
        "colab_type": "text"
      },
      "source": [
        "<a href=\"https://colab.research.google.com/github/misati-ed/Hands-On-Data-Analysis-with-Pandas/blob/master/LPTHW.ipynb\" target=\"_parent\"><img src=\"https://colab.research.google.com/assets/colab-badge.svg\" alt=\"Open In Colab\"/></a>"
      ]
    },
    {
      "cell_type": "code",
      "source": [
        "from sys import argv\n",
        "\n",
        "script, first, second = argv\n",
        "\n",
        "print (\"The script is called:\", script)\n",
        "print (\"Your first variable is:\", first)\n",
        "print (\"Your second variable is:\", second)\n",
        "\n",
        "\n"
      ],
      "metadata": {
        "colab": {
          "base_uri": "https://localhost:8080/"
        },
        "id": "YWtiihAd78zY",
        "outputId": "9cfe13df-ccaa-4d3b-e161-b1e524b97bd5"
      },
      "execution_count": null,
      "outputs": [
        {
          "output_type": "stream",
          "name": "stdout",
          "text": [
            "The script is called: /usr/local/lib/python3.10/dist-packages/colab_kernel_launcher.py\n",
            "Your first variable is: -f\n",
            "Your second variable is: /root/.local/share/jupyter/runtime/kernel-22f3be47-6a8e-4c39-87c2-638a63a881e0.json\n"
          ]
        }
      ]
    },
    {
      "cell_type": "code",
      "source": [
        "def do_nothing():\n",
        "  pass"
      ],
      "metadata": {
        "id": "MGmKJ9GE9F2a"
      },
      "execution_count": null,
      "outputs": []
    },
    {
      "cell_type": "code",
      "source": [
        "def do_something():\n",
        "  print(\"I did something\")"
      ],
      "metadata": {
        "id": "TEcczwfD9rW9"
      },
      "execution_count": null,
      "outputs": []
    },
    {
      "cell_type": "code",
      "source": [
        "do_something()"
      ],
      "metadata": {
        "colab": {
          "base_uri": "https://localhost:8080/"
        },
        "id": "QGEs9K4c9vk7",
        "outputId": "699020f6-f7ff-4f68-d727-7d322f357db6"
      },
      "execution_count": null,
      "outputs": [
        {
          "output_type": "stream",
          "name": "stdout",
          "text": [
            "I did something\n"
          ]
        }
      ]
    },
    {
      "cell_type": "code",
      "source": [
        "def do_more_things(a, b):\n",
        "  print(\"A IS\", a, \"B IS\", b)\n",
        "\n",
        "do_more_things(\"hello\", 1)"
      ],
      "metadata": {
        "id": "lTE1YmNl9xFm",
        "colab": {
          "base_uri": "https://localhost:8080/"
        },
        "outputId": "6205c8ce-958e-4cd1-dbe5-780fadbe8c68"
      },
      "execution_count": null,
      "outputs": [
        {
          "output_type": "stream",
          "name": "stdout",
          "text": [
            "A IS hello B IS 1\n"
          ]
        }
      ]
    },
    {
      "cell_type": "code",
      "source": [
        "def print_two(*args):\n",
        "  arg1, arg2 = args\n",
        "  print(f\"arg1: {arg1}, arg2: {arg2}\")\n",
        "\n",
        "print_two(\"one\", \"two\")"
      ],
      "metadata": {
        "colab": {
          "base_uri": "https://localhost:8080/"
        },
        "id": "oMZAxWPddRl5",
        "outputId": "fe3f10b0-9fcb-496e-bc90-414fd4b00ce7"
      },
      "execution_count": null,
      "outputs": [
        {
          "output_type": "stream",
          "name": "stdout",
          "text": [
            "arg1: one, arg2: two\n"
          ]
        }
      ]
    },
    {
      "cell_type": "code",
      "source": [],
      "metadata": {
        "id": "ju7XwoZLtpAh"
      },
      "execution_count": null,
      "outputs": []
    }
  ]
}
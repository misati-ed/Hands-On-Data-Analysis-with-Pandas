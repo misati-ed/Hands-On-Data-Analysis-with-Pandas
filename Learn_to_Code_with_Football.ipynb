{
  "nbformat": 4,
  "nbformat_minor": 0,
  "metadata": {
    "colab": {
      "provenance": [],
      "mount_file_id": "1tTmdNTMUYVDlM_HYYJQMA5fSuazhkCcR",
      "authorship_tag": "ABX9TyO6MRFjaq8MnR7mf8kLp/H9",
      "include_colab_link": true
    },
    "kernelspec": {
      "name": "python3",
      "display_name": "Python 3"
    },
    "language_info": {
      "name": "python"
    }
  },
  "cells": [
    {
      "cell_type": "markdown",
      "metadata": {
        "id": "view-in-github",
        "colab_type": "text"
      },
      "source": [
        "<a href=\"https://colab.research.google.com/github/misati-ed/Hands-On-Data-Analysis-with-Pandas/blob/master/Learn_to_Code_with_Football.ipynb\" target=\"_parent\"><img src=\"https://colab.research.google.com/assets/colab-badge.svg\" alt=\"Open In Colab\"/></a>"
      ]
    },
    {
      "cell_type": "markdown",
      "source": [
        "# 1. Figuring Things out in Python"
      ],
      "metadata": {
        "id": "BZzXlM8Hjpee"
      }
    },
    {
      "cell_type": "code",
      "source": [],
      "metadata": {
        "id": "7PBbMUVvlBlE"
      },
      "execution_count": null,
      "outputs": []
    },
    {
      "cell_type": "code",
      "source": [
        "cr7 = 'Cristiano Ronaldo'\n",
        "cr7.capitalize()\n",
        "cr7.format()\n",
        "cr7.islower()\n",
        "cr7.casefold?\n",
        "type(cr7)"
      ],
      "metadata": {
        "colab": {
          "base_uri": "https://localhost:8080/"
        },
        "id": "HLxS-34oNrGa",
        "outputId": "86d4dfad-35fa-4f32-8e9b-2e6c9a49d2bc"
      },
      "execution_count": null,
      "outputs": [
        {
          "output_type": "execute_result",
          "data": {
            "text/plain": [
              "str"
            ]
          },
          "metadata": {},
          "execution_count": 9
        }
      ]
    },
    {
      "cell_type": "markdown",
      "source": [
        "# 2. Unpacking"
      ],
      "metadata": {
        "id": "VxRetZJxlHaM"
      }
    },
    {
      "cell_type": "code",
      "source": [
        "cb, dm = ['ruben dias', 'fernandinho']"
      ],
      "metadata": {
        "id": "GcN0_kTyjTW3"
      },
      "execution_count": null,
      "outputs": []
    },
    {
      "cell_type": "code",
      "source": [
        "cb"
      ],
      "metadata": {
        "colab": {
          "base_uri": "https://localhost:8080/",
          "height": 35
        },
        "id": "F1dOgwiolXGG",
        "outputId": "1ac6a5bc-6ede-44db-cdba-566b8bdb4d50"
      },
      "execution_count": null,
      "outputs": [
        {
          "output_type": "execute_result",
          "data": {
            "text/plain": [
              "'ruben dias'"
            ],
            "application/vnd.google.colaboratory.intrinsic+json": {
              "type": "string"
            }
          },
          "metadata": {},
          "execution_count": 11
        }
      ]
    },
    {
      "cell_type": "code",
      "source": [
        "dm"
      ],
      "metadata": {
        "colab": {
          "base_uri": "https://localhost:8080/",
          "height": 35
        },
        "id": "x05vx-KDlYBn",
        "outputId": "bdf45f4d-18b0-4f1f-a47a-1448edb27504"
      },
      "execution_count": null,
      "outputs": [
        {
          "output_type": "execute_result",
          "data": {
            "text/plain": [
              "'fernandinho'"
            ],
            "application/vnd.google.colaboratory.intrinsic+json": {
              "type": "string"
            }
          },
          "metadata": {},
          "execution_count": 12
        }
      ]
    },
    {
      "cell_type": "markdown",
      "source": [
        "# 3. Loops"
      ],
      "metadata": {
        "id": "zGSnERUIo3mk"
      }
    },
    {
      "cell_type": "code",
      "source": [
        "roster_list = ['ruben dias', 'gabriel jesus', 'riyad mahrez']\n",
        "roster_list_upper = ['', '', '']\n",
        "i = 0\n",
        "for player in roster_list:\n",
        "  roster_list_upper[i] = player.title()\n",
        "  i += 1\n",
        "roster_list_upper"
      ],
      "metadata": {
        "colab": {
          "base_uri": "https://localhost:8080/"
        },
        "id": "LluIdtLio6Y0",
        "outputId": "c0ef3bee-d02a-47a3-d460-e1dac7283a2e"
      },
      "execution_count": null,
      "outputs": [
        {
          "output_type": "execute_result",
          "data": {
            "text/plain": [
              "['Ruben Dias', 'Gabriel Jesus', 'Riyad Mahrez']"
            ]
          },
          "metadata": {},
          "execution_count": 13
        }
      ]
    },
    {
      "cell_type": "code",
      "source": [
        "for x in roster_dict:\n",
        "  print(f\"position: {x}\")"
      ],
      "metadata": {
        "id": "3Gn-KzDLqP_U",
        "colab": {
          "base_uri": "https://localhost:8080/",
          "height": 159
        },
        "outputId": "100e9140-de1b-4546-d8c7-737827d13ab2"
      },
      "execution_count": null,
      "outputs": [
        {
          "output_type": "error",
          "ename": "NameError",
          "evalue": "name 'roster_dict' is not defined",
          "traceback": [
            "\u001b[0;31m---------------------------------------------------------------------------\u001b[0m",
            "\u001b[0;31mNameError\u001b[0m                                 Traceback (most recent call last)",
            "\u001b[0;32m<ipython-input-2-468c1a517c0f>\u001b[0m in \u001b[0;36m<cell line: 1>\u001b[0;34m()\u001b[0m\n\u001b[0;32m----> 1\u001b[0;31m \u001b[0;32mfor\u001b[0m \u001b[0mx\u001b[0m \u001b[0;32min\u001b[0m \u001b[0mroster_dict\u001b[0m\u001b[0;34m:\u001b[0m\u001b[0;34m\u001b[0m\u001b[0;34m\u001b[0m\u001b[0m\n\u001b[0m\u001b[1;32m      2\u001b[0m   \u001b[0mprint\u001b[0m\u001b[0;34m(\u001b[0m\u001b[0;34mf\"position: {x}\"\u001b[0m\u001b[0;34m)\u001b[0m\u001b[0;34m\u001b[0m\u001b[0;34m\u001b[0m\u001b[0m\n",
            "\u001b[0;31mNameError\u001b[0m: name 'roster_dict' is not defined"
          ]
        }
      ]
    },
    {
      "cell_type": "code",
      "source": [
        "+\n"
      ],
      "metadata": {
        "id": "FKxEHdHb0C0P"
      },
      "execution_count": null,
      "outputs": []
    }
  ]
}